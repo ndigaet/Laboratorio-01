{
 "cells": [
  {
   "cell_type": "code",
   "execution_count": 5,
   "metadata": {},
   "outputs": [],
   "source": [
    "import numpy as np\n",
    "#from sklearn.linear_model import LogisticRegression\n",
    "from tensorflow.keras.models import Sequential\n",
    "from tensorflow.keras.layers import Dense\n",
    "from tensorflow.keras.optimizers import SGD, Adam"
   ]
  },
  {
   "cell_type": "markdown",
   "metadata": {},
   "source": [
    "# RC2 - Pregunta 5"
   ]
  },
  {
   "cell_type": "code",
   "execution_count": 6,
   "metadata": {},
   "outputs": [
    {
     "name": "stdout",
     "output_type": "stream",
     "text": [
      "1466.8239999999998\n",
      "575.168\n",
      "0.9209914\n"
     ]
    }
   ],
   "source": [
    "TPr=0.362\n",
    "FPr=0.016\n",
    "TotNO=35948\n",
    "TotYES=4052\n",
    "TP = TotYES * TPr\n",
    "FP = TotNO * FPr\n",
    "TN = TotNO - FP\n",
    "print(TP)\n",
    "print(FP)\n",
    "accuracy = (TN + TP)/(TotYES+TotNO)\n",
    "print(accuracy)"
   ]
  },
  {
   "cell_type": "code",
   "execution_count": null,
   "metadata": {},
   "outputs": [],
   "source": []
  },
  {
   "cell_type": "markdown",
   "metadata": {},
   "source": [
    "# RC2 - Pregunta 8\n",
    "\n",
    "Calcular la probabillidad estimada por la regresión logística"
   ]
  },
  {
   "cell_type": "code",
   "execution_count": 7,
   "metadata": {},
   "outputs": [],
   "source": [
    "import numpy as np\n",
    "h = 0.5 * -3.706423 + 1 * -3.6671724 + 2.9557335"
   ]
  },
  {
   "cell_type": "code",
   "execution_count": 8,
   "metadata": {},
   "outputs": [
    {
     "name": "stdout",
     "output_type": "stream",
     "text": [
      "-2.5646504000000006\n"
     ]
    }
   ],
   "source": [
    "print(h)"
   ]
  },
  {
   "cell_type": "code",
   "execution_count": 9,
   "metadata": {},
   "outputs": [],
   "source": [
    "y = 1 / (1 + np.exp(-h))"
   ]
  },
  {
   "cell_type": "code",
   "execution_count": 10,
   "metadata": {},
   "outputs": [
    {
     "name": "stdout",
     "output_type": "stream",
     "text": [
      "0.07144840278053262\n"
     ]
    }
   ],
   "source": [
    "print(y)"
   ]
  },
  {
   "cell_type": "markdown",
   "metadata": {},
   "source": [
    "# RC2 - Pregunta 9\n",
    "\n",
    "Calcular la loss (entropía cruzada)\n",
    "\n"
   ]
  },
  {
   "cell_type": "code",
   "execution_count": 15,
   "metadata": {},
   "outputs": [
    {
     "name": "stdout",
     "output_type": "stream",
     "text": [
      "<bound method Model.get_weights of <tensorflow.python.keras.engine.sequential.Sequential object at 0x0000020C9186C080>> -- [<tf.Variable 'dense_2/kernel:0' shape=(2, 1) dtype=float32, numpy=\n",
      "array([[-3.706423 ],\n",
      "       [-3.6671724]], dtype=float32)>, <tf.Variable 'dense_2/bias:0' shape=(1,) dtype=float32, numpy=array([2.9557335], dtype=float32)>]\n",
      "[[0.5 1. ]]\n",
      "[[0.07144841]]\n"
     ]
    }
   ],
   "source": [
    "#instancio una regresión lineal en Keras\n",
    "model = Sequential()\n",
    "model.add(Dense(1, input_shape=(2,), activation='sigmoid'))\n",
    "model.compile(Adam(lr=0.01), loss='binary_crossentropy', metrics=['accuracy'])\n",
    "\n",
    "l=[]\n",
    "x=np.array([[-3.706423],[-3.6671724]]) #weights\n",
    "y=np.array([2.9557335]) #array of biases\n",
    "l.append(x)\n",
    "l.append(y)\n",
    "model.set_weights(l)\n",
    "print(model.get_weights,'--',model.weights)\n",
    "observ = np.array([[0.5, 1]])\n",
    "print(observ)\n",
    "print(model.predict_proba(observ))\n",
    "proba_ok=model.predict_proba(observ)"
   ]
  },
  {
   "cell_type": "code",
   "execution_count": 18,
   "metadata": {},
   "outputs": [
    {
     "name": "stdout",
     "output_type": "stream",
     "text": [
      "cross_entropy mal  clasificado: [[2.6387796]]\n",
      "cross_entropy bien clasificado: [[0.07412931]]\n"
     ]
    }
   ],
   "source": [
    "print(f'cross_entropy mal  clasificado: {-1*np.log(proba_ok) - (1-1)*np.log(1-proba_ok)}')\n",
    "print(f'cross_entropy bien clasificado: {-0*np.log(proba_ok) - (1-0)*np.log(1-proba_ok)}')"
   ]
  },
  {
   "cell_type": "markdown",
   "metadata": {},
   "source": [
    "# RC2 - Pregunta 10\n",
    "\n",
    "Se entrenó la siguiente regresión multinomial (softmax) y se obtuvieron los parámetros abajo indicados\n",
    "\n",
    "matriz de coeficientes devuelta por keras:\n",
    "\n",
    "coef_matrix\n",
    "\n",
    "[\n",
    "\n",
    "[ 1.2032 , 0.34239826, -0.3272417 ],\n",
    "\n",
    "[ 1.4500312 , 0.54530275, -0.64213556]\n",
    "\n",
    "]\n",
    "\n",
    "bias\n",
    "\n",
    "[-1.7683319, 1.8029612, -1.7188473]"
   ]
  },
  {
   "cell_type": "code",
   "execution_count": 20,
   "metadata": {},
   "outputs": [
    {
     "name": "stdout",
     "output_type": "stream",
     "text": [
      "Model: \"sequential_6\"\n",
      "_________________________________________________________________\n",
      "Layer (type)                 Output Shape              Param #   \n",
      "=================================================================\n",
      "Capa_Oculta (Dense)          (None, 3)                 9         \n",
      "=================================================================\n",
      "Total params: 9\n",
      "Trainable params: 9\n",
      "Non-trainable params: 0\n",
      "_________________________________________________________________\n"
     ]
    }
   ],
   "source": [
    "#Creo un modelo de clasificación multiclase con función de activación softmax\n",
    "input_features=2\n",
    "output_size=3\n",
    "model = Sequential()\n",
    "model.add(Dense(units=output_size,input_dim=input_features, activation='softmax', name=\"Capa_Oculta\"))\n",
    "model.summary()\n",
    "lr = 0.04 \n",
    "\n",
    "# Lo compilo, notar que en vez de binary_crossentropy va categorical_crossentropy\n",
    "model.compile(loss = 'categorical_crossentropy', optimizer=Adam(lr=lr), metrics=['accuracy'])"
   ]
  },
  {
   "cell_type": "code",
   "execution_count": 21,
   "metadata": {},
   "outputs": [],
   "source": [
    "#Seteo los pesos y bias del modelo\n",
    "l=[]\n",
    "x=np.array([\n",
    "[ 1.2032 , 0.34239826, -0.3272417 ],\n",
    "[ 1.4500312 , 0.54530275, -0.64213556]\n",
    "]) #weights\n",
    "y=np.array([-1.7683319, 1.8029612, -1.7188473]) #array of biases\n",
    "l.append(x)\n",
    "l.append(y)\n",
    "model.set_weights(l)"
   ]
  },
  {
   "cell_type": "code",
   "execution_count": 22,
   "metadata": {},
   "outputs": [
    {
     "name": "stdout",
     "output_type": "stream",
     "text": [
      "[[0 2]]\n"
     ]
    }
   ],
   "source": [
    "# observacion [0, 2]\n",
    "observ = np.array([[0, 2]])\n",
    "print(observ)"
   ]
  },
  {
   "cell_type": "code",
   "execution_count": 23,
   "metadata": {},
   "outputs": [
    {
     "data": {
      "text/plain": [
       "array([[0.14621755, 0.85144234, 0.00234022]], dtype=float32)"
      ]
     },
     "execution_count": 23,
     "metadata": {},
     "output_type": "execute_result"
    }
   ],
   "source": [
    "probs = model.predict_proba(observ)\n",
    "probs"
   ]
  },
  {
   "cell_type": "code",
   "execution_count": 26,
   "metadata": {},
   "outputs": [
    {
     "name": "stdout",
     "output_type": "stream",
     "text": [
      "[[ 1.2032      0.34239826 -0.3272417 ]\n",
      " [ 1.4500312   0.54530275 -0.64213556]]\n",
      "[-1.7683319  1.8029612 -1.7188473]\n"
     ]
    }
   ],
   "source": [
    "coefs_, intercept_ = model.get_weights()\n",
    "print (coefs_)\n",
    "print (intercept_)"
   ]
  },
  {
   "cell_type": "code",
   "execution_count": 27,
   "metadata": {},
   "outputs": [
    {
     "data": {
      "text/plain": [
       "array([[ 1.13173044],\n",
       "       [ 2.89356673],\n",
       "       [-3.0031184 ]])"
      ]
     },
     "execution_count": 27,
     "metadata": {},
     "output_type": "execute_result"
    }
   ],
   "source": [
    "h_s = coefs_.T.dot(observ.reshape(-1,1)) + intercept_.reshape(-1,1)\n",
    "h_s"
   ]
  },
  {
   "cell_type": "markdown",
   "metadata": {},
   "source": [
    "# RC2 - Pregunta 11\n",
    "\n",
    "Calcular cada una de las probabilidades del problema anterior para la observación [0, 2]"
   ]
  },
  {
   "cell_type": "code",
   "execution_count": 29,
   "metadata": {},
   "outputs": [
    {
     "data": {
      "text/plain": [
       "array([[0.14621752],\n",
       "       [0.85144225],\n",
       "       [0.00234022]])"
      ]
     },
     "execution_count": 29,
     "metadata": {},
     "output_type": "execute_result"
    }
   ],
   "source": [
    "p_ = np.exp(h_s) / np.exp(h_s).sum()\n",
    "p_"
   ]
  },
  {
   "cell_type": "code",
   "execution_count": 31,
   "metadata": {},
   "outputs": [
    {
     "data": {
      "text/plain": [
       "array([[0.14621755, 0.85144234, 0.00234022]], dtype=float32)"
      ]
     },
     "execution_count": 31,
     "metadata": {},
     "output_type": "execute_result"
    }
   ],
   "source": [
    "probs = model.predict_proba(observ)\n",
    "probs"
   ]
  },
  {
   "cell_type": "markdown",
   "metadata": {},
   "source": [
    "# RC2 - Pregunta 12\n",
    "\n",
    "Dado el problema anterior calcular la loss (Entropía cruzada categórica) de la observación [0, 2] dado que se clasificó bien"
   ]
  },
  {
   "cell_type": "code",
   "execution_count": 35,
   "metadata": {},
   "outputs": [
    {
     "name": "stdout",
     "output_type": "stream",
     "text": [
      "1/1 [==============================] - 0s 6ms/sample - loss: 0.1608 - accuracy: 1.0000\n"
     ]
    },
    {
     "data": {
      "text/plain": [
       "[0.1608235388994217, 1.0]"
      ]
     },
     "execution_count": 35,
     "metadata": {},
     "output_type": "execute_result"
    }
   ],
   "source": [
    "# la mayor probabilidad es de la segunda clase, entonces valido contra el vector [0, 1, 0]\n",
    "model.evaluate(observ, np.array([[0, 1, 0]]))"
   ]
  },
  {
   "cell_type": "markdown",
   "metadata": {},
   "source": [
    "Cuanto valdría la loss si en realidad esa observación debería haberse clasificado como de la primer clase [1, 0, 0]"
   ]
  },
  {
   "cell_type": "code",
   "execution_count": 32,
   "metadata": {},
   "outputs": [
    {
     "name": "stdout",
     "output_type": "stream",
     "text": [
      "1/1 [==============================] - 0s 93ms/sample - loss: 1.9227 - accuracy: 0.0000e+00\n"
     ]
    },
    {
     "data": {
      "text/plain": [
       "[1.9226597547531128, 0.0]"
      ]
     },
     "execution_count": 32,
     "metadata": {},
     "output_type": "execute_result"
    }
   ],
   "source": [
    "model.evaluate(observ, np.array([[1, 0, 0]]))"
   ]
  },
  {
   "cell_type": "markdown",
   "metadata": {},
   "source": [
    "# Pregunta 13\n",
    "\n",
    "Dado el siguiente modelo multilabel, hallar las probabilidades de cada clase para la observación [0.5, 0.5]"
   ]
  },
  {
   "cell_type": "code",
   "execution_count": 52,
   "metadata": {},
   "outputs": [
    {
     "name": "stdout",
     "output_type": "stream",
     "text": [
      "Model: \"sequential_9\"\n",
      "_________________________________________________________________\n",
      "Layer (type)                 Output Shape              Param #   \n",
      "=================================================================\n",
      "Salida (Dense)               (None, 4)                 12        \n",
      "=================================================================\n",
      "Total params: 12\n",
      "Trainable params: 12\n",
      "Non-trainable params: 0\n",
      "_________________________________________________________________\n"
     ]
    }
   ],
   "source": [
    "# Instancio un modelo multilabel con función de activación sigmoidea y loss binary_xent\n",
    "\n",
    "input_features=2\n",
    "output_size = 4\n",
    "model = Sequential()\n",
    "model.add(Dense(output_size, name=\"Salida\", activation='sigmoid', input_dim=input_features))\n",
    "model.summary()\n",
    "\n",
    "lr = 0.05 \n",
    "# Lo compilo, notar que en vez de binary_crossentropy va categorical_crossentropy\n",
    "model.compile(loss = 'binary_crossentropy', optimizer=Adam(lr=lr), metrics=['accuracy'])"
   ]
  },
  {
   "cell_type": "code",
   "execution_count": 53,
   "metadata": {},
   "outputs": [
    {
     "name": "stdout",
     "output_type": "stream",
     "text": [
      "[[ 0.9950235   0.89830256  0.94255066 -0.5261898 ]\n",
      " [ 0.49229598  0.4148593   0.4485836  -0.02210307]] [0. 0. 0. 0.]\n"
     ]
    }
   ],
   "source": [
    "coefs_, intercept_ = model.get_weights()\n",
    "print(coefs_, intercept_)"
   ]
  },
  {
   "cell_type": "code",
   "execution_count": 54,
   "metadata": {},
   "outputs": [],
   "source": [
    "new_coefs = np.array([\n",
    "[-10.021508 , 9.780544 , -0.3323118 , 0.35372728],\n",
    "[ 0.13239847, -0.1332541 , 8.324003 , -8.686057 ]\n",
    "])\n",
    "new_intercept = np.array([ 0.19760127, -0.18874079, 0.03835499, -0.04586953])\n",
    "\n",
    "l = []\n",
    "l.append(new_coefs)\n",
    "l.append(new_intercept)\n",
    "\n",
    "model.set_weights(l)"
   ]
  },
  {
   "cell_type": "code",
   "execution_count": 55,
   "metadata": {},
   "outputs": [
    {
     "name": "stdout",
     "output_type": "stream",
     "text": [
      "[[-10.021508     9.780544    -0.3323118    0.35372728]\n",
      " [  0.13239847  -0.1332541    8.324003    -8.686057  ]] [ 0.19760127 -0.18874079  0.03835499 -0.04586953]\n"
     ]
    }
   ],
   "source": [
    "coefs_, intercept_ = model.get_weights()\n",
    "print(coefs_, intercept_)"
   ]
  },
  {
   "cell_type": "code",
   "execution_count": 58,
   "metadata": {},
   "outputs": [
    {
     "name": "stdout",
     "output_type": "stream",
     "text": [
      "[[0.5 0.5]]\n"
     ]
    }
   ],
   "source": [
    "observ = np.array([[0.5, 0.5]])\n",
    "print(observ)"
   ]
  },
  {
   "cell_type": "code",
   "execution_count": 59,
   "metadata": {},
   "outputs": [
    {
     "data": {
      "text/plain": [
       "array([[0.00860343, 0.99038625, 0.982608  , 0.01459988]], dtype=float32)"
      ]
     },
     "execution_count": 59,
     "metadata": {},
     "output_type": "execute_result"
    }
   ],
   "source": [
    "probs = model.predict_proba(observ)\n",
    "probs"
   ]
  },
  {
   "cell_type": "markdown",
   "metadata": {},
   "source": [
    "# Pregunta 14\n",
    "\n",
    "Calcular la loss para el problema anterior promediando las entropías cruzadas de cada probabilidad (suponer que se clasifico bien)"
   ]
  },
  {
   "cell_type": "code",
   "execution_count": 60,
   "metadata": {},
   "outputs": [
    {
     "name": "stdout",
     "output_type": "stream",
     "text": [
      "1/1 [==============================] - 0s 105ms/sample - loss: 0.0126 - accuracy: 1.0000\n"
     ]
    },
    {
     "data": {
      "text/plain": [
       "[0.012638348154723644, 1.0]"
      ]
     },
     "execution_count": 60,
     "metadata": {},
     "output_type": "execute_result"
    }
   ],
   "source": [
    "# si clasificó bien, asumo que el vector resultante es [0, 1, 1, 0] para calcular la loss\n",
    "\n",
    "model.evaluate(observ, np.array([[0, 1, 1, 0]]))"
   ]
  },
  {
   "cell_type": "code",
   "execution_count": null,
   "metadata": {},
   "outputs": [],
   "source": []
  }
 ],
 "metadata": {
  "kernelspec": {
   "display_name": "Python 3",
   "language": "python",
   "name": "python3"
  },
  "language_info": {
   "codemirror_mode": {
    "name": "ipython",
    "version": 3
   },
   "file_extension": ".py",
   "mimetype": "text/x-python",
   "name": "python",
   "nbconvert_exporter": "python",
   "pygments_lexer": "ipython3",
   "version": "3.6.12"
  }
 },
 "nbformat": 4,
 "nbformat_minor": 4
}
